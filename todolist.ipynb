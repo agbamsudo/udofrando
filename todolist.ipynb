{
  "nbformat": 4,
  "nbformat_minor": 0,
  "metadata": {
    "colab": {
      "provenance": [],
      "authorship_tag": "ABX9TyP8dj4kQ/8Ty9UqtU/42Rd8",
      "include_colab_link": true
    },
    "kernelspec": {
      "name": "python3",
      "display_name": "Python 3"
    },
    "language_info": {
      "name": "python"
    }
  },
  "cells": [
    {
      "cell_type": "markdown",
      "metadata": {
        "id": "view-in-github",
        "colab_type": "text"
      },
      "source": [
        "<a href=\"https://colab.research.google.com/github/agbamsudo/udofrando/blob/main/todolist.ipynb\" target=\"_parent\"><img src=\"https://colab.research.google.com/assets/colab-badge.svg\" alt=\"Open In Colab\"/></a>"
      ]
    },
    {
      "cell_type": "markdown",
      "source": [
        "creating a to_do list"
      ],
      "metadata": {
        "id": "To1xLtHW7czw"
      }
    },
    {
      "cell_type": "code",
      "execution_count": 5,
      "metadata": {
        "colab": {
          "base_uri": "https://localhost:8080/"
        },
        "id": "4YHFZUj65Rv9",
        "outputId": "7c066101-cb8f-457f-cb25-28aa7f1afd89"
      },
      "outputs": [
        {
          "output_type": "stream",
          "name": "stdout",
          "text": [
            "monday todos: ['prayers', 'reading', 'lectures']\n"
          ]
        }
      ],
      "source": [
        "todos=(\n",
        "    [\"prayers\",\"reading\",\"lectures\"],\n",
        "    [\"prayers\",\"assignments\",\"exercises\",\"cleanup\"],\n",
        "    [\"prayers\",\"projects\",\"coursework\",\"games\"],\n",
        "    [\"watchingmovie\",\"laundry\"],\n",
        "    [\"excursion\"],\n",
        "    [\"sleeping\",\"cooking\"],\n",
        "    [\"swimming\",\"resting\"]\n",
        "    )\n",
        "#use an indexing to get a todos for monday\n",
        "monday_todos=todos[0]\n",
        "print(\"monday todos:\",todos[0])"
      ]
    },
    {
      "cell_type": "markdown",
      "source": [
        "iterate over all to-dos;\n",
        "use a loop to go through each day's to_dos and display them;\n",
        "a *for* loop is useful here if iterate over the list"
      ],
      "metadata": {
        "id": "O4MVGGJK9JO_"
      }
    },
    {
      "cell_type": "code",
      "source": [
        "days_of_week=[\"monday\",\"tuesday\",\"wednesday\",\"thursday\",\"friday\",\"saturday\",\"sunday\"]\n",
        "for index in range(len(todos)):\n",
        "    print(days_of_week[index],\":\",todos[index])"
      ],
      "metadata": {
        "colab": {
          "base_uri": "https://localhost:8080/"
        },
        "id": "EooSn66I9yYt",
        "outputId": "82885c78-1cf6-4d27-8096-c9224758f328"
      },
      "execution_count": 6,
      "outputs": [
        {
          "output_type": "stream",
          "name": "stdout",
          "text": [
            "monday : ['prayers', 'reading', 'lectures']\n",
            "tuesday : ['prayers', 'assignments', 'exercises', 'cleanup']\n",
            "wednesday : ['prayers', 'projects', 'coursework', 'games']\n",
            "thursday : ['watchingmovie', 'laundry']\n",
            "friday : ['excursion']\n",
            "saturday : ['sleeping', 'cooking']\n",
            "sunday : ['swimming', 'resting']\n"
          ]
        }
      ]
    }
  ]
}