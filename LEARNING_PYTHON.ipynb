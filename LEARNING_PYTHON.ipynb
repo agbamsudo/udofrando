{
  "nbformat": 4,
  "nbformat_minor": 0,
  "metadata": {
    "colab": {
      "provenance": [],
      "toc_visible": true,
      "authorship_tag": "ABX9TyPhLftVR836EoyzcqzM3HMs",
      "include_colab_link": true
    },
    "kernelspec": {
      "name": "python3",
      "display_name": "Python 3"
    },
    "language_info": {
      "name": "python"
    }
  },
  "cells": [
    {
      "cell_type": "markdown",
      "metadata": {
        "id": "view-in-github",
        "colab_type": "text"
      },
      "source": [
        "<a href=\"https://colab.research.google.com/github/agbamsudo/udofrando/blob/main/LEARNING_PYTHON.ipynb\" target=\"_parent\"><img src=\"https://colab.research.google.com/assets/colab-badge.svg\" alt=\"Open In Colab\"/></a>"
      ]
    },
    {
      "cell_type": "code",
      "execution_count": null,
      "metadata": {
        "id": "GVweCU19gf_s",
        "colab": {
          "base_uri": "https://localhost:8080/"
        },
        "outputId": "5c8e3155-c14b-497b-e0c2-07009d90eaba"
      },
      "outputs": [
        {
          "output_type": "stream",
          "name": "stdout",
          "text": [
            "30\n",
            "my student age will be 30\n"
          ]
        }
      ],
      "source": [
        "mystudentage = 30\n",
        "print(mystudentage)\n",
        "print(\"my student age will be {}\".format(mystudentage))"
      ]
    },
    {
      "cell_type": "code",
      "source": [
        "print(\"in 10 years, my student age will be {}\".format(mystudentage+10))"
      ],
      "metadata": {
        "colab": {
          "base_uri": "https://localhost:8080/"
        },
        "id": "YQcFA-oGlzdC",
        "outputId": "24ae11dc-36f9-4fb7-b4f5-1dd243f49de8"
      },
      "execution_count": null,
      "outputs": [
        {
          "output_type": "stream",
          "name": "stdout",
          "text": [
            "in 10 years, my student age will be 40\n"
          ]
        }
      ]
    },
    {
      "cell_type": "code",
      "source": [
        "a=5\n",
        "print(a)"
      ],
      "metadata": {
        "colab": {
          "base_uri": "https://localhost:8080/"
        },
        "id": "cKF-nxKTpK-E",
        "outputId": "9617b729-2a2e-4279-a057-44c518f764d0"
      },
      "execution_count": null,
      "outputs": [
        {
          "output_type": "stream",
          "name": "stdout",
          "text": [
            "5\n"
          ]
        }
      ]
    },
    {
      "cell_type": "code",
      "source": [
        "a"
      ],
      "metadata": {
        "colab": {
          "base_uri": "https://localhost:8080/"
        },
        "id": "bgsAv1Ehp9z6",
        "outputId": "7c0b4204-449d-41e6-d322-b964f28c6bc2"
      },
      "execution_count": null,
      "outputs": [
        {
          "output_type": "execute_result",
          "data": {
            "text/plain": [
              "5"
            ]
          },
          "metadata": {},
          "execution_count": 8
        }
      ]
    },
    {
      "cell_type": "code",
      "source": [
        "a=str(\"my student age\")\n",
        "print(type(\"my student age\"))"
      ],
      "metadata": {
        "colab": {
          "base_uri": "https://localhost:8080/"
        },
        "id": "OZvL6tBBr4fL",
        "outputId": "acddd5cb-5e85-4036-df09-943d4d0d55fc"
      },
      "execution_count": null,
      "outputs": [
        {
          "output_type": "stream",
          "name": "stdout",
          "text": [
            "<class 'str'>\n"
          ]
        }
      ]
    },
    {
      "cell_type": "code",
      "source": [
        "pow(3,2)\n",
        "print(pow(3,2))"
      ],
      "metadata": {
        "colab": {
          "base_uri": "https://localhost:8080/"
        },
        "id": "-Zod-mHetXxE",
        "outputId": "756ad137-038c-4396-d2c4-80257be7539d"
      },
      "execution_count": null,
      "outputs": [
        {
          "output_type": "stream",
          "name": "stdout",
          "text": [
            "9\n"
          ]
        }
      ]
    },
    {
      "cell_type": "code",
      "source": [
        "10//3\n",
        "print(10//3)\n"
      ],
      "metadata": {
        "colab": {
          "base_uri": "https://localhost:8080/"
        },
        "id": "wh5QfFVbul7V",
        "outputId": "518156d3-b8bc-4a5b-f3b0-fd9228e39e7c"
      },
      "execution_count": null,
      "outputs": [
        {
          "output_type": "stream",
          "name": "stdout",
          "text": [
            "3\n"
          ]
        }
      ]
    },
    {
      "cell_type": "code",
      "source": [
        "print(\"addition:\",1+2)"
      ],
      "metadata": {
        "colab": {
          "base_uri": "https://localhost:8080/"
        },
        "id": "WYVvE5v0b6dZ",
        "outputId": "5a42fc98-cde1-4257-8994-13c846574e52"
      },
      "execution_count": null,
      "outputs": [
        {
          "output_type": "stream",
          "name": "stdout",
          "text": [
            "addition: 3\n"
          ]
        }
      ]
    },
    {
      "cell_type": "code",
      "source": [
        "print(\"subtraction:\",2-1)"
      ],
      "metadata": {
        "colab": {
          "base_uri": "https://localhost:8080/"
        },
        "id": "rbcVx2-LcaXx",
        "outputId": "34885e80-b3de-4ad6-ad09-bee480298aa5"
      },
      "execution_count": null,
      "outputs": [
        {
          "output_type": "stream",
          "name": "stdout",
          "text": [
            "subtraction: 1\n"
          ]
        }
      ]
    },
    {
      "cell_type": "code",
      "source": [
        "print(\"divide:\",6/2)"
      ],
      "metadata": {
        "colab": {
          "base_uri": "https://localhost:8080/"
        },
        "id": "np4X7uLtc2GD",
        "outputId": "ddfb2e92-bb3c-467a-e2d4-e6f6ad3bfdfc"
      },
      "execution_count": null,
      "outputs": [
        {
          "output_type": "stream",
          "name": "stdout",
          "text": [
            "divide: 3.0\n"
          ]
        }
      ]
    },
    {
      "cell_type": "code",
      "source": [
        "a = 3\n",
        "b = 2\n",
        "total = a+b\n",
        "diff=a-b\n",
        "product=a*b\n",
        "reminder=a%b\n",
        "floor_division=a//b\n",
        "division=a/b\n",
        "exponential=a**b\n",
        "print(\"total\")"
      ],
      "metadata": {
        "colab": {
          "base_uri": "https://localhost:8080/"
        },
        "id": "4kNeIspFgwmc",
        "outputId": "9b837e2f-2fc0-42e7-ecc0-e96b5d8919b1"
      },
      "execution_count": null,
      "outputs": [
        {
          "output_type": "stream",
          "name": "stdout",
          "text": [
            "total\n"
          ]
        }
      ]
    },
    {
      "cell_type": "code",
      "source": [
        "print(total)\n",
        "print(diff)\n",
        "print(product)\n",
        "print(floor_division)\n",
        "print(reminder)\n",
        "print(exponential)\n",
        "print(division)"
      ],
      "metadata": {
        "colab": {
          "base_uri": "https://localhost:8080/"
        },
        "id": "WNuALrDviunZ",
        "outputId": "214aefd4-c49e-4451-b253-349c777954d7"
      },
      "execution_count": null,
      "outputs": [
        {
          "output_type": "stream",
          "name": "stdout",
          "text": [
            "5\n",
            "1\n",
            "6\n",
            "1\n",
            "1\n",
            "9\n",
            "1.5\n"
          ]
        }
      ]
    },
    {
      "cell_type": "code",
      "source": [
        "#calculating area of a circle\n",
        "#radius of a circle\n",
        "radius=10\n",
        "area_of_a_circle=3.14*radius**2\n",
        "print(\"area of a circle:\",area_of_a_circle)\n"
      ],
      "metadata": {
        "colab": {
          "base_uri": "https://localhost:8080/"
        },
        "id": "25zZsyYN3zOP",
        "outputId": "9eae14a0-a2c8-472b-eaa4-e0c5c05bfe9c"
      },
      "execution_count": null,
      "outputs": [
        {
          "output_type": "stream",
          "name": "stdout",
          "text": [
            "area of a circle: 314.0\n"
          ]
        }
      ]
    },
    {
      "cell_type": "code",
      "source": [
        "#calculating area of a rectangle\n",
        "lenght=10\n",
        "width=20\n",
        "area_of_a_rectangle=lenght*width\n",
        "print(\"area of a rectangle:\",area_of_a_rectangle)"
      ],
      "metadata": {
        "colab": {
          "base_uri": "https://localhost:8080/"
        },
        "id": "U3dZb6s_5G92",
        "outputId": "85598860-94dd-4954-9540-1d9b6a7fe68d"
      },
      "execution_count": null,
      "outputs": [
        {
          "output_type": "stream",
          "name": "stdout",
          "text": [
            "area of a rectangle: 200\n"
          ]
        }
      ]
    },
    {
      "cell_type": "code",
      "source": [
        "x=10\n",
        "age=\"my age\"\n",
        "num=2.13\n",
        "dog=False\n",
        "print(type(dog))\n",
        "print(type(num))\n",
        "print(type(age))\n",
        "print(type(x))"
      ],
      "metadata": {
        "colab": {
          "base_uri": "https://localhost:8080/"
        },
        "id": "K1Mc9xbnELjY",
        "outputId": "ae86f136-68c7-4a30-d964-8a45790abf4d"
      },
      "execution_count": null,
      "outputs": [
        {
          "output_type": "stream",
          "name": "stdout",
          "text": [
            "<class 'bool'>\n",
            "<class 'float'>\n",
            "<class 'str'>\n",
            "<class 'int'>\n"
          ]
        }
      ]
    },
    {
      "cell_type": "code",
      "source": [
        "from typing_extensions import clear_overloads\n",
        "$$x^3$$ clear_overloads\n"
      ],
      "metadata": {
        "colab": {
          "base_uri": "https://localhost:8080/",
          "height": 110
        },
        "id": "9sx0BLIVGj9D",
        "outputId": "7ae558f5-538e-4d40-99fe-6ae691113960"
      },
      "execution_count": null,
      "outputs": [
        {
          "output_type": "error",
          "ename": "SyntaxError",
          "evalue": "invalid syntax (<ipython-input-6-b3344821de02>, line 1)",
          "traceback": [
            "\u001b[0;36m  File \u001b[0;32m\"<ipython-input-6-b3344821de02>\"\u001b[0;36m, line \u001b[0;32m1\u001b[0m\n\u001b[0;31m    $$x^3$$\u001b[0m\n\u001b[0m    ^\u001b[0m\n\u001b[0;31mSyntaxError\u001b[0m\u001b[0;31m:\u001b[0m invalid syntax\n"
          ]
        }
      ]
    },
    {
      "cell_type": "code",
      "source": [
        "def cubic(x):\n",
        "    return x**4\n",
        "print(cubic(2))\n"
      ],
      "metadata": {
        "colab": {
          "base_uri": "https://localhost:8080/"
        },
        "id": "x9VsDmkYEwnD",
        "outputId": "2a668831-bba1-428e-d448-a79ea8619d3b"
      },
      "execution_count": null,
      "outputs": [
        {
          "output_type": "stream",
          "name": "stdout",
          "text": [
            "16\n"
          ]
        }
      ]
    },
    {
      "cell_type": "code",
      "source": [
        "def square(number):\n",
        "    return number**2\n",
        "print(square(2))"
      ],
      "metadata": {
        "colab": {
          "base_uri": "https://localhost:8080/"
        },
        "id": "HLREZxMwjb07",
        "outputId": "a0568acc-c6d2-4fc3-c7ae-c1ec3e9fca68"
      },
      "execution_count": null,
      "outputs": [
        {
          "output_type": "stream",
          "name": "stdout",
          "text": [
            "4\n"
          ]
        }
      ]
    },
    {
      "cell_type": "code",
      "source": [
        "a=3\n",
        "b=1\n",
        "total=a+b\n",
        "print(total)"
      ],
      "metadata": {
        "colab": {
          "base_uri": "https://localhost:8080/"
        },
        "id": "uY122AsCjtNZ",
        "outputId": "ed4c544b-ceb8-4f5c-fa99-323e5f005945"
      },
      "execution_count": null,
      "outputs": [
        {
          "output_type": "stream",
          "name": "stdout",
          "text": [
            "4\n"
          ]
        }
      ]
    },
    {
      "cell_type": "code",
      "source": [
        "def square(number):\n",
        "    return(number**2)\n",
        "print(square(2))\n"
      ],
      "metadata": {
        "colab": {
          "base_uri": "https://localhost:8080/"
        },
        "id": "PBYVpPE8lc5O",
        "outputId": "1590055b-448f-401c-dc8f-d792070af910"
      },
      "execution_count": null,
      "outputs": [
        {
          "output_type": "stream",
          "name": "stdout",
          "text": [
            "4\n"
          ]
        }
      ]
    },
    {
      "cell_type": "code",
      "source": [
        "squared=square(5.5)\n",
        "print(squared)"
      ],
      "metadata": {
        "colab": {
          "base_uri": "https://localhost:8080/"
        },
        "id": "ANxPfazTmL3S",
        "outputId": "44de8ac7-904e-43c4-a2a5-89acbd86b1d4"
      },
      "execution_count": null,
      "outputs": [
        {
          "output_type": "stream",
          "name": "stdout",
          "text": [
            "30.25\n"
          ]
        }
      ]
    },
    {
      "cell_type": "code",
      "source": [
        "my_number=6\n",
        "print(square(my_number))"
      ],
      "metadata": {
        "colab": {
          "base_uri": "https://localhost:8080/"
        },
        "id": "viK1r0kfml8A",
        "outputId": "d959a1c2-a5e9-4ffb-8d44-a80d936c4ca1"
      },
      "execution_count": null,
      "outputs": [
        {
          "output_type": "stream",
          "name": "stdout",
          "text": [
            "36\n"
          ]
        }
      ]
    },
    {
      "cell_type": "code",
      "source": [
        "def do_it(x):\n",
        "    return(x**3)\n",
        "print(do_it(2))\n",
        "print(do_it(3))\n"
      ],
      "metadata": {
        "colab": {
          "base_uri": "https://localhost:8080/"
        },
        "id": "BUYa6iEoo2zr",
        "outputId": "1bdfaecc-f0b0-46b3-938f-07647b62ae9d"
      },
      "execution_count": null,
      "outputs": [
        {
          "output_type": "stream",
          "name": "stdout",
          "text": [
            "8\n",
            "27\n"
          ]
        }
      ]
    },
    {
      "cell_type": "code",
      "source": [
        "$$\\sum(n+1)$$"
      ],
      "metadata": {
        "colab": {
          "base_uri": "https://localhost:8080/",
          "height": 110
        },
        "id": "ISPWJl_izv5B",
        "outputId": "0d76fc26-b926-4fb3-9a6a-74d29a14ce60"
      },
      "execution_count": null,
      "outputs": [
        {
          "output_type": "error",
          "ename": "SyntaxError",
          "evalue": "invalid syntax (<ipython-input-23-c2c20c0d6756>, line 1)",
          "traceback": [
            "\u001b[0;36m  File \u001b[0;32m\"<ipython-input-23-c2c20c0d6756>\"\u001b[0;36m, line \u001b[0;32m1\u001b[0m\n\u001b[0;31m    $$\\sum(n+1)$$\u001b[0m\n\u001b[0m    ^\u001b[0m\n\u001b[0;31mSyntaxError\u001b[0m\u001b[0;31m:\u001b[0m invalid syntax\n"
          ]
        }
      ]
    },
    {
      "cell_type": "markdown",
      "source": [
        "$$\\sum(n+1)$$"
      ],
      "metadata": {
        "id": "Hzh-LMQS2itQ"
      }
    },
    {
      "cell_type": "markdown",
      "source": [
        "$$n=0,1,2,3,4,5,6,7,8,9$$"
      ],
      "metadata": {
        "id": "dBzTZ2y3220M"
      }
    },
    {
      "cell_type": "code",
      "source": [
        "def sum_num(N):\n",
        "    sum_=0\n",
        "    for n in range(N+1):\n",
        "        sum_=sum_+n\n",
        "    return sum_\n",
        "print(sum_num(10))"
      ],
      "metadata": {
        "colab": {
          "base_uri": "https://localhost:8080/"
        },
        "id": "pEAM_XdM3Arx",
        "outputId": "141d1580-60cd-4c0a-c030-6b091197f5e0"
      },
      "execution_count": null,
      "outputs": [
        {
          "output_type": "stream",
          "name": "stdout",
          "text": [
            "55\n"
          ]
        }
      ]
    },
    {
      "cell_type": "code",
      "source": [
        "def sum_guass(N):\n",
        "    return N*(N+1)//2\n",
        "for N in range(100):\n",
        "    assert sum_num(N)==sum_guass(N)\n",
        "print(sum_num(10))"
      ],
      "metadata": {
        "colab": {
          "base_uri": "https://localhost:8080/"
        },
        "id": "koEDvxDG_ekP",
        "outputId": "b8b8b0c9-9002-427e-babb-2b7d290912d4"
      },
      "execution_count": null,
      "outputs": [
        {
          "output_type": "stream",
          "name": "stdout",
          "text": [
            "55\n"
          ]
        }
      ]
    },
    {
      "cell_type": "code",
      "source": [
        "print(3>2)"
      ],
      "metadata": {
        "colab": {
          "base_uri": "https://localhost:8080/"
        },
        "id": "WlKX0o98Bxfm",
        "outputId": "de35386c-1315-4b8b-8ab2-1c04cba959ea"
      },
      "execution_count": null,
      "outputs": [
        {
          "output_type": "stream",
          "name": "stdout",
          "text": [
            "True\n"
          ]
        }
      ]
    },
    {
      "cell_type": "code",
      "source": [
        "def do_it(x):\n",
        "    print(x**3)\n",
        "do_it(2)\n",
        "\n"
      ],
      "metadata": {
        "colab": {
          "base_uri": "https://localhost:8080/"
        },
        "id": "jwEkw1HS0CAP",
        "outputId": "053892ff-a6c3-4c60-f81b-5fa88793ae01"
      },
      "execution_count": null,
      "outputs": [
        {
          "output_type": "stream",
          "name": "stdout",
          "text": [
            "8\n"
          ]
        }
      ]
    },
    {
      "cell_type": "code",
      "source": [
        "def example_a(a):\n",
        "    print(\"a**2 will return\")\n",
        "    return a**3\n",
        "print (example_a(2))"
      ],
      "metadata": {
        "colab": {
          "base_uri": "https://localhost:8080/"
        },
        "id": "1nevqqPm0CW0",
        "outputId": "9ee5e8c5-1538-4cdf-ea4b-039c0dbf1aee"
      },
      "execution_count": null,
      "outputs": [
        {
          "output_type": "stream",
          "name": "stdout",
          "text": [
            "a**2 will return\n",
            "8\n"
          ]
        }
      ]
    },
    {
      "cell_type": "code",
      "source": [
        "def example_a(a):\n",
        "    return a**3\n",
        "print(\"a**3 will return\",example_a(2))"
      ],
      "metadata": {
        "colab": {
          "base_uri": "https://localhost:8080/"
        },
        "id": "gqF0eo-6H40X",
        "outputId": "4da1d457-5f26-4711-d824-c6d66e830ab1"
      },
      "execution_count": null,
      "outputs": [
        {
          "output_type": "stream",
          "name": "stdout",
          "text": [
            "a**3 will return 8\n"
          ]
        }
      ]
    },
    {
      "cell_type": "code",
      "source": [
        "def example_a(a):\n",
        "    return a**3\n",
        "print(\"a**3 will {} return\", format(example_a(2)))\n"
      ],
      "metadata": {
        "colab": {
          "base_uri": "https://localhost:8080/"
        },
        "id": "UkkQEm3nJWp_",
        "outputId": "96f80efd-2bdd-40ea-e640-79f3f8352a8a"
      },
      "execution_count": null,
      "outputs": [
        {
          "output_type": "stream",
          "name": "stdout",
          "text": [
            "a**3 will {} return 8\n"
          ]
        }
      ]
    },
    {
      "cell_type": "code",
      "source": [
        "def example_b():\n",
        "    return (\"example_b is running\")\n",
        "print(\"existing without returning a value\", example_b())\n"
      ],
      "metadata": {
        "colab": {
          "base_uri": "https://localhost:8080/"
        },
        "id": "c_mgjlfoLvdf",
        "outputId": "0c9ff8c5-8094-485a-b728-e68a1e1ecee2"
      },
      "execution_count": null,
      "outputs": [
        {
          "output_type": "stream",
          "name": "stdout",
          "text": [
            "existing without returning a value example_b is running\n"
          ]
        }
      ]
    },
    {
      "cell_type": "code",
      "source": [
        "my_list=[1,2,3,4]\n",
        "lenght_of_list=len(my_list)\n",
        "print(lenght_of_list)\n",
        "list_range=range(4)\n",
        "print(list[list_range])\n",
        "new_list=[]\n",
        "for i in range(lenght_of_list):\n",
        "  print(i)\n",
        "  if my_list[i]==4:\n",
        "     pass\n",
        "  else:\n",
        "      new_list.append(my_list[i])\n",
        "      print(new_list)"
      ],
      "metadata": {
        "colab": {
          "base_uri": "https://localhost:8080/"
        },
        "id": "9_o1P7A5OZIj",
        "outputId": "014bde7d-1c0b-4d0f-efa9-0ee59a71453a"
      },
      "execution_count": 14,
      "outputs": [
        {
          "output_type": "stream",
          "name": "stdout",
          "text": [
            "4\n",
            "list[range(0, 4)]\n",
            "0\n",
            "[1]\n",
            "1\n",
            "[1, 2]\n",
            "2\n",
            "[1, 2, 3]\n",
            "3\n"
          ]
        }
      ]
    }
  ]
}