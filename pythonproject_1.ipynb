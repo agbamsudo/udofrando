{
  "cells": [
    {
      "cell_type": "markdown",
      "metadata": {
        "id": "view-in-github",
        "colab_type": "text"
      },
      "source": [
        "<a href=\"https://colab.research.google.com/github/agbamsudo/udofrando/blob/main/pythonproject_1.ipynb\" target=\"_parent\"><img src=\"https://colab.research.google.com/assets/colab-badge.svg\" alt=\"Open In Colab\"/></a>"
      ]
    },
    {
      "cell_type": "markdown",
      "metadata": {
        "id": "g-ru1ZgKFCbi"
      },
      "source": [
        "create a quiz CLI application where users can answer multiple-choice questions, and the application keeps track of scores, when the user completes the questions should, give a success or failure result based on the pass mark. Requirements: must use more than 3 functions, most modularize your codes, must use one or more python data structure."
      ]
    },
    {
      "cell_type": "code",
      "execution_count": null,
      "metadata": {
        "colab": {
          "background_save": true,
          "base_uri": "https://localhost:8080/"
        },
        "id": "pi4mj0zfE49b",
        "outputId": "93b56460-c113-4ac6-904b-af97400f5b98"
      },
      "outputs": [
        {
          "output_type": "stream",
          "name": "stdout",
          "text": [
            "Who is the current President of Nigeria?\n",
            "A. Goodluck Jonathan\n",
            "B. Muhammadu Buhari\n",
            "C. Bola Ahmed Tinubu\n",
            "D. Peter Obi\n"
          ]
        }
      ],
      "source": [
        "#Quiz Application\n",
        "#Define a dictionary that stores questions and their answers\n",
        "current_affairs_questions={\n",
        "    \"Who is the current President of Nigeria?\":[\"A. Goodluck Jonathan\",\"B. Muhammadu Buhari\",\"C. Bola Ahmed Tinubu\",\"D. Peter Obi\"],\n",
        "    \"What is the name of Nigeria's digital currency?\":[\"A. Bitcoin\",\"B. NairaCoin\",\"C. eNaira\",\"D. DigiNaira\"],\n",
        "    \"Which Nigerian state was the first to implement the Naira for Dollar scheme?\":[\"A. Lagos\",\"B. Kano\",\"C.spike\",\"D. Rivers\"],\n",
        "    \"Who is the current Governor of the Central Bank of Nigeria (CBN)\":[\"A. Godwin Emefiele\",\"B. Folashodun Shonubi\",\"C. Lamido Sanusi\",\"D. Yemi Cardoso\"],\n",
        "    \"Which country did Nigeria sign an electricity deal with to boost power supply in 2024?\":[\"A. Ghana\",\"B. China\",\"C. Germany\",\"D. South Africa\"],\n",
        "    \"what is the new minimum wage in Nigeria as of 2024?\":[\"A. ₦30,000\",\"B. ₦40,000\",\"C. ₦50,000\",\"D. ₦70,000\"],\n",
        "    \"which Nigerian city recently hosted the African Union Summit?\":[\"A. Abuja\",\"B. Lagos\",\"C. Port Harcourt\",\"D. Kaduna\"],\n",
        "    \"What is the name of the newly launched Nigerian satellite?\":[\"A. NaijaSat-2\",\"B. Satcom-1\",\"C. NigComSat-2\",\"D. AbujaSat\"],\n",
        "    \"Which Nigerian artist won the Grammy Award for Best Global Music Album in 2024?\":[\"A. Wizkid\",\"B. Burna Boy\",\"C. Davido\",\"D. Tems\"],\n",
        "    \"What is the theme of Nigeria's National Youth Day in 2024?\":[\"A. 'Empowering the Future'\",\"B. 'Innovation and Leadership'\",\"C. 'Youth for Development'\",\"D. 'Transforming the Nation'\"]\n",
        "}\n",
        "#defining the correct options using dictionary\n",
        "correct_options={\n",
        "    \"Who is the current President of Nigeria?\":\"B. Buhari\",\n",
        "    \"What is the name of Nigeria's digital currency?\":\"B. NairaCoin\",\n",
        "    \"Which Nigerian state was the first to implement the Naira for Dollar scheme?\":\"B. Kano\",\n",
        "    \"Who is the current Governor of the Central Bank of Nigeria (CBN)\":\"A. Godwin Emefiele\",\n",
        "    \"Which country did Nigeria sign an electricity deal with to boost power supply in 2024?\":\"A. Ghana\",\n",
        "    \"what is the new minimum wage in Nigeria as of 2024?\":\"B. ₦40,000\",\n",
        "    \"which Nigerian city recently hosted the African Union Summit?\":\"B. Lagos\",\n",
        "    \"What is the name of the newly launched Nigerian satellite?\":\"A. NaijaSat-2\",\n",
        "    \"Which Nigerian artist won the Grammy Award for Best Global Music Album in 2024?\":\"A. Wizkid\",\n",
        "    \"What is the theme of Nigeria's National Youth Day in 2024?\":\"C. 'Youth for Development'\"\n",
        "}\n",
        "#funtion to display the quiz questions\n",
        "def display_question(question,options):\n",
        "    print(question)\n",
        "    for option in options:\n",
        "        print(option)\n",
        "#function to get the user's option\n",
        "def get_user_option():\n",
        "    option=input(\"your option (A,B,C,or D):\").strip().upper()\n",
        "    while option not in [\"A\",\"B\",\"C\",\"D\"]:\n",
        "        print(\"invalid option.please choose A,B,C,or D\")\n",
        "        option=input(\"your option (A,B,C,or D):\").strip().upper()\n",
        "    return option\n",
        "#function to check the user's option\n",
        "def check_option(user_option,correct_option):\n",
        "    if user_option==correct_option:\n",
        "        return True\n",
        "    else:\n",
        "        return False\n",
        "#function to calculate the score\n",
        "def calculate_score(user_options):\n",
        "    score=0\n",
        "    for question,user_option in user_options.items():\n",
        "        correct_option=correct_options[question]\n",
        "        if check_option(user_option,correct_option):\n",
        "            score+=1\n",
        "    return score\n",
        "#main function to run the quiz\n",
        "def run_quiz():\n",
        "  print(\"Welcome to the Quiz Application\")\n",
        "  user_answers={}\n",
        "#iterate through the questions\n",
        "for question,options in current_affairs_questions.items():\n",
        "    display_question(question,options)\n",
        "    user_option=get_user_option()\n",
        "    user_option[question]=user_option\n",
        "#calculate the score\n",
        "score=calculate_score(user_option)\n",
        "total_questions=len(current_affairs_questions)\n",
        "pass_mark=total_questions*0.5 #pass mark is 50% of total questions\n",
        "#display the resut\n",
        "print(\"you scored {score} out of {total_question}.\")\n",
        "if score>=pass_mark:\n",
        "    print(\"congratulations! you passed the quiz.\")\n",
        "else:\n",
        "    print(\"sorry, you failed the quiz.\")\n",
        "#run the quiz application\n",
        "if __name__==\"__main__\":\n",
        "    run_quiz()"
      ]
    }
  ],
  "metadata": {
    "colab": {
      "provenance": [],
      "authorship_tag": "ABX9TyNgzljgb2uVU8BiyEY211ZH",
      "include_colab_link": true
    },
    "kernelspec": {
      "display_name": "Python 3",
      "name": "python3"
    },
    "language_info": {
      "name": "python"
    }
  },
  "nbformat": 4,
  "nbformat_minor": 0
}